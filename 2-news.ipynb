{
 "cells": [
  {
   "cell_type": "markdown",
   "metadata": {
    "nbpresent": {
     "id": "881486ba-6555-44b9-b82e-a96870933286"
    }
   },
   "source": [
    "# A Gentle Introduction to Machine Learning with sklearn"
   ]
  },
  {
   "cell_type": "markdown",
   "metadata": {},
   "source": [
    "## Playing With 20 Newsgroup Dataset\n",
    "\n",
    "Consists of 18k newsgroup posts on 20 different topics.  Given a post, can we find out what topic it's on?"
   ]
  },
  {
   "cell_type": "code",
   "execution_count": null,
   "metadata": {
    "collapsed": true
   },
   "outputs": [],
   "source": [
    "import numpy as np"
   ]
  },
  {
   "cell_type": "code",
   "execution_count": null,
   "metadata": {},
   "outputs": [],
   "source": [
    "from sklearn.datasets import fetch_20newsgroups\n",
    "newsgroups_train = fetch_20newsgroups(subset='train')"
   ]
  },
  {
   "cell_type": "code",
   "execution_count": null,
   "metadata": {},
   "outputs": [],
   "source": [
    "print(\"FileNames: {}\".format(newsgroups_train.filenames.shape));\n",
    "print(\"Target: {}\".format(newsgroups_train.target.shape));\n",
    "datapoint=1 # view a data point, pick from 0 to 11313\n",
    "print(newsgroups_train.data[datapoint])\n",
    "print(newsgroups_train.target_names[newsgroups_train.target[datapoint]])"
   ]
  },
  {
   "cell_type": "markdown",
   "metadata": {},
   "source": [
    "How can we convert text into features that we can plug into mathematical models?  Enter feature_extraction."
   ]
  },
  {
   "cell_type": "code",
   "execution_count": null,
   "metadata": {},
   "outputs": [],
   "source": [
    "from sklearn.feature_extraction.text import CountVectorizer\n",
    "\n",
    "# Create bag-of-words representation of text, ignoring stopwords (like \"the\" or \"of\", etc.)\n",
    "vectorizer = CountVectorizer(stop_words='english') \n",
    "vectors_train = vectorizer.fit_transform(newsgroups_train.data)\n",
    "vectors_train.shape"
   ]
  },
  {
   "cell_type": "code",
   "execution_count": null,
   "metadata": {},
   "outputs": [],
   "source": [
    "vocab = vectorizer.vocabulary_\n",
    "vocab"
   ]
  },
  {
   "cell_type": "code",
   "execution_count": null,
   "metadata": {},
   "outputs": [],
   "source": [
    "# Let's view a vector for the datapoint we saw earlier\n",
    "# vectors is a sparse matrix, so we have to convert to a dense matrix.\n",
    "data_mat = vectors_train[datapoint].todense()\n",
    "print(data_mat.shape)\n",
    "data_mat"
   ]
  },
  {
   "cell_type": "code",
   "execution_count": null,
   "metadata": {},
   "outputs": [],
   "source": [
    "# let's see the count for a specific word\n",
    "data_mat[(0,vocab['clock'])]"
   ]
  },
  {
   "cell_type": "markdown",
   "metadata": {},
   "source": [
    "Let's naively try fitting the data now, using ... wait for it ... a Naive Bayes Classifier!"
   ]
  },
  {
   "cell_type": "code",
   "execution_count": null,
   "metadata": {},
   "outputs": [],
   "source": [
    "from sklearn.naive_bayes import MultinomialNB\n",
    "\n",
    "clf = MultinomialNB()\n",
    "clf.fit(vectors_train, newsgroups_train.target)"
   ]
  },
  {
   "cell_type": "code",
   "execution_count": null,
   "metadata": {},
   "outputs": [],
   "source": [
    "# Get test data, we must use the same vectorizer or else we'll end up with a different feature set!\n",
    "newsgroups_test = fetch_20newsgroups(subset='test')\n",
    "vectors_test = vectorizer.transform(newsgroups_test.data)\n",
    "vectors_test.shape"
   ]
  },
  {
   "cell_type": "code",
   "execution_count": null,
   "metadata": {},
   "outputs": [],
   "source": [
    "from sklearn.metrics import accuracy_score\n",
    "y_pred = clf.predict(vectors_test)\n",
    "y_pred.shape\n",
    "accuracy_score(newsgroups_test.target, y_pred)"
   ]
  },
  {
   "cell_type": "markdown",
   "metadata": {},
   "source": [
    "Many words have little to no predictive value and are just noise so we want to get rid of them through a process called Feature Selection.  This means we can test fewer words with little impact (or even improvement) in predictive accuracy."
   ]
  },
  {
   "cell_type": "code",
   "execution_count": null,
   "metadata": {},
   "outputs": [],
   "source": [
    "from sklearn.feature_selection import chi2\n",
    "from sklearn.feature_selection import SelectPercentile\n",
    "\n",
    "ch2 = SelectPercentile(chi2, percentile=5) # use \"percentile\" best features\n",
    "y_train = newsgroups_train.target\n",
    "X_train = ch2.fit_transform(vectors_train, y_train)\n",
    "y_test = newsgroups_test.target\n",
    "X_test = ch2.transform(vectors_test)\n",
    "\n",
    "inv_vocab = {v: k for k, v in vocab.items()} # maps from index to word\n",
    "\n",
    "# list most important words\n",
    "feature_names = [inv_vocab[i] for i in ch2.get_support(indices=True)]\n",
    "feature_names"
   ]
  },
  {
   "cell_type": "code",
   "execution_count": null,
   "metadata": {},
   "outputs": [],
   "source": [
    "# Train with new set\n",
    "clf = MultinomialNB()\n",
    "clf.fit(X_train, y_train)\n",
    "y_pred = clf.predict(X_test)\n",
    "y_pred.shape\n",
    "accuracy_score(y_test, y_pred)"
   ]
  },
  {
   "cell_type": "markdown",
   "metadata": {},
   "source": [
    "Let's see what the most important features were by looking at their coefficients (that is how important they were in the model)"
   ]
  },
  {
   "cell_type": "code",
   "execution_count": null,
   "metadata": {},
   "outputs": [],
   "source": [
    "category = 1\n",
    "print(newsgroups_train.target_names[category])\n",
    "feature_coefs = np.column_stack([np.array(feature_names), clf.coef_[category]])\n",
    "feature_coefs = np.core.records.fromarrays(feature_coefs.transpose(), names='feature, coef', formats = 'S8, f8')\n",
    "feature_coefs = np.sort(feature_coefs, order=['coef'], kind='mergesort')\n",
    "feature_coefs.shape"
   ]
  },
  {
   "cell_type": "code",
   "execution_count": null,
   "metadata": {},
   "outputs": [],
   "source": [
    "[x[0] for x in feature_coefs[-10:-1]] # print 10 best features"
   ]
  }
 ],
 "metadata": {
  "anaconda-cloud": {},
  "kernelspec": {
   "display_name": "Python 3",
   "language": "python",
   "name": "python3"
  },
  "language_info": {
   "codemirror_mode": {
    "name": "ipython",
    "version": 3
   },
   "file_extension": ".py",
   "mimetype": "text/x-python",
   "name": "python",
   "nbconvert_exporter": "python",
   "pygments_lexer": "ipython3",
   "version": "3.6.3"
  },
  "nbpresent": {
   "slides": {
    "1c40d1d6-4c5a-4158-ab2c-6d06cca56177": {
     "id": "1c40d1d6-4c5a-4158-ab2c-6d06cca56177",
     "prev": "74579b92-824d-4988-aba2-db773b8be292",
     "regions": {
      "15399b12-2ed8-4ca7-9f9a-e094306201a4": {
       "attrs": {
        "height": 0.8,
        "width": 0.8,
        "x": 0.1,
        "y": 0.1
       },
       "content": {
        "cell": "7a8b07ec-93ed-4cd6-8964-e16467cd1b30",
        "part": "whole"
       },
       "id": "15399b12-2ed8-4ca7-9f9a-e094306201a4"
      }
     }
    },
    "1e56f1be-7713-4bb0-8c48-66c7ec6f6718": {
     "id": "1e56f1be-7713-4bb0-8c48-66c7ec6f6718",
     "prev": "7f6868af-17f0-4b5b-8644-caac8f9bf2a4",
     "regions": {
      "ec00bd93-5b6a-40f8-ad1c-87df6fd23cd8": {
       "attrs": {
        "height": 0.8,
        "width": 0.8,
        "x": 0.1,
        "y": 0.1
       },
       "content": {
        "cell": "df1d8442-7692-4d92-a77a-82cddf60e683",
        "part": "whole"
       },
       "id": "ec00bd93-5b6a-40f8-ad1c-87df6fd23cd8"
      }
     }
    },
    "44eab977-3da8-40d3-a2c4-fdda8a221990": {
     "id": "44eab977-3da8-40d3-a2c4-fdda8a221990",
     "prev": "adfb04da-6259-4224-b074-0339ae2e9b76",
     "regions": {
      "624a9a86-67e9-4f3b-bcd1-a9df611e17cd": {
       "attrs": {
        "height": 0.8,
        "width": 0.8,
        "x": 0.1,
        "y": 0.1
       },
       "content": {
        "cell": "3d70a30c-87c3-44dc-af14-e771b8a2f998",
        "part": "whole"
       },
       "id": "624a9a86-67e9-4f3b-bcd1-a9df611e17cd"
      }
     }
    },
    "4c7d80f3-b68c-4130-aac5-d706c598c62f": {
     "id": "4c7d80f3-b68c-4130-aac5-d706c598c62f",
     "prev": "ec7deb92-348c-4cdd-b11e-7f822e9a252d",
     "regions": {
      "ec2480fd-2be0-4f82-a8a5-059a2cb1e6a3": {
       "attrs": {
        "height": 0.8,
        "width": 0.8,
        "x": 0.1,
        "y": 0.1
       },
       "content": {
        "cell": "675ae25c-2826-47de-9265-09584c288987",
        "part": "whole"
       },
       "id": "ec2480fd-2be0-4f82-a8a5-059a2cb1e6a3"
      }
     }
    },
    "5dbf0a1a-3d1f-48e0-9f22-0b56235a664e": {
     "id": "5dbf0a1a-3d1f-48e0-9f22-0b56235a664e",
     "prev": null,
     "regions": {
      "27db3580-7767-4f97-8499-f3c500f984f5": {
       "attrs": {
        "height": 0.8,
        "width": 0.8,
        "x": 0.1,
        "y": 0.1
       },
       "content": {
        "cell": "881486ba-6555-44b9-b82e-a96870933286",
        "part": "whole"
       },
       "id": "27db3580-7767-4f97-8499-f3c500f984f5"
      }
     }
    },
    "6d7deb03-cc6c-455b-a2ff-65e1383e1eac": {
     "id": "6d7deb03-cc6c-455b-a2ff-65e1383e1eac",
     "prev": "cbd93aa9-e20f-4601-a413-39b1765d3da5",
     "regions": {
      "f2e4c51c-012e-4db2-a892-7dc65929513d": {
       "attrs": {
        "height": 0.8,
        "width": 0.8,
        "x": 0.1,
        "y": 0.1
       },
       "content": {
        "cell": "1c77de49-768c-47ec-8809-8e893361c772",
        "part": "whole"
       },
       "id": "f2e4c51c-012e-4db2-a892-7dc65929513d"
      }
     }
    },
    "7343c477-3e7a-4ac7-adb8-2ffd4bb88cbf": {
     "id": "7343c477-3e7a-4ac7-adb8-2ffd4bb88cbf",
     "prev": "1e56f1be-7713-4bb0-8c48-66c7ec6f6718",
     "regions": {
      "c684cc04-be46-4219-ad89-27852ef1ce2b": {
       "attrs": {
        "height": 0.8,
        "width": 0.8,
        "x": 0.1,
        "y": 0.1
       },
       "content": {
        "cell": "a33bd51e-17b9-4d8b-bba1-9703ce6e8c0a",
        "part": "whole"
       },
       "id": "c684cc04-be46-4219-ad89-27852ef1ce2b"
      }
     }
    },
    "74579b92-824d-4988-aba2-db773b8be292": {
     "id": "74579b92-824d-4988-aba2-db773b8be292",
     "prev": "a70ad0eb-12b9-4c1e-aa54-c10795389f00",
     "regions": {
      "c972ec29-8670-43b0-8c89-f33e756e38c6": {
       "attrs": {
        "height": 0.8,
        "width": 0.8,
        "x": 0.1,
        "y": 0.1
       },
       "content": {
        "cell": "178cc142-7cd9-4054-8359-18032e5327f9",
        "part": "whole"
       },
       "id": "c972ec29-8670-43b0-8c89-f33e756e38c6"
      }
     }
    },
    "76323a2d-3015-4167-b4dc-2e157a029c67": {
     "id": "76323a2d-3015-4167-b4dc-2e157a029c67",
     "prev": "b585e3a9-3ac9-4632-ac3a-d2f207377ee9",
     "regions": {
      "73b55813-01ce-4b15-bf62-cbc7dd1d5560": {
       "attrs": {
        "height": 0.8,
        "width": 0.8,
        "x": 0.1,
        "y": 0.1
       },
       "content": {
        "cell": "29618a49-dc73-4120-8aa4-dcb7e0b910f8",
        "part": "whole"
       },
       "id": "73b55813-01ce-4b15-bf62-cbc7dd1d5560"
      }
     }
    },
    "7da1750b-8d91-482e-81ef-1251a31a3bdc": {
     "id": "7da1750b-8d91-482e-81ef-1251a31a3bdc",
     "prev": "5dbf0a1a-3d1f-48e0-9f22-0b56235a664e",
     "regions": {
      "c2b42754-e718-4f88-8790-dc48adf3cae2": {
       "attrs": {
        "height": 0.8,
        "width": 0.8,
        "x": 0.1,
        "y": 0.1
       },
       "content": {
        "cell": "d0747b7a-22cd-4633-b054-f9b7ebe9692b",
        "part": "whole"
       },
       "id": "c2b42754-e718-4f88-8790-dc48adf3cae2"
      }
     }
    },
    "7f6868af-17f0-4b5b-8644-caac8f9bf2a4": {
     "id": "7f6868af-17f0-4b5b-8644-caac8f9bf2a4",
     "prev": "44eab977-3da8-40d3-a2c4-fdda8a221990",
     "regions": {
      "bce7e9c9-f783-4920-b62d-824d808c54e2": {
       "attrs": {
        "height": 0.8,
        "width": 0.8,
        "x": 0.1,
        "y": 0.1
       },
       "content": {
        "cell": "2b653413-251c-406f-9920-f01740f6ed9d",
        "part": "whole"
       },
       "id": "bce7e9c9-f783-4920-b62d-824d808c54e2"
      }
     }
    },
    "87c3baba-6117-45b4-b2f7-8e67e4c30d9b": {
     "id": "87c3baba-6117-45b4-b2f7-8e67e4c30d9b",
     "prev": "1c40d1d6-4c5a-4158-ab2c-6d06cca56177",
     "regions": {
      "7c8b84aa-6797-4259-bd35-fa38306b409a": {
       "attrs": {
        "height": 0.8,
        "width": 0.8,
        "x": 0.1,
        "y": 0.1
       },
       "content": {
        "cell": "b26b0345-8be3-4024-be65-c2aa9670430e",
        "part": "whole"
       },
       "id": "7c8b84aa-6797-4259-bd35-fa38306b409a"
      }
     }
    },
    "a70ad0eb-12b9-4c1e-aa54-c10795389f00": {
     "id": "a70ad0eb-12b9-4c1e-aa54-c10795389f00",
     "prev": "7343c477-3e7a-4ac7-adb8-2ffd4bb88cbf",
     "regions": {
      "508a03e9-a3fa-4653-a66e-0c70b23b115a": {
       "attrs": {
        "height": 0.8,
        "width": 0.8,
        "x": 0.1,
        "y": 0.1
       },
       "content": {
        "cell": "8f55a60a-b9f4-4cf5-a45e-9c3b0612d80d",
        "part": "whole"
       },
       "id": "508a03e9-a3fa-4653-a66e-0c70b23b115a"
      }
     }
    },
    "adfb04da-6259-4224-b074-0339ae2e9b76": {
     "id": "adfb04da-6259-4224-b074-0339ae2e9b76",
     "prev": "6d7deb03-cc6c-455b-a2ff-65e1383e1eac",
     "regions": {
      "5bc0e13b-a257-46c3-999c-798e9e0c79be": {
       "attrs": {
        "height": 0.8,
        "width": 0.8,
        "x": 0.1,
        "y": 0.1
       },
       "content": {
        "cell": "d59f91da-a052-4fcc-81ed-40405863b154",
        "part": "whole"
       },
       "id": "5bc0e13b-a257-46c3-999c-798e9e0c79be"
      }
     }
    },
    "b1d9cb1b-8730-4a6f-ac80-c8cd7ca3728c": {
     "id": "b1d9cb1b-8730-4a6f-ac80-c8cd7ca3728c",
     "prev": "e6cf034e-e79b-41d6-a1f9-7226fbbf7ed7",
     "regions": {
      "3a90e481-6a6e-4c77-9fa6-57b8093da676": {
       "attrs": {
        "height": 0.8,
        "width": 0.8,
        "x": 0.1,
        "y": 0.1
       },
       "content": {
        "cell": "051e759f-beef-4680-bebf-9b0b64f45d9b",
        "part": "whole"
       },
       "id": "3a90e481-6a6e-4c77-9fa6-57b8093da676"
      }
     }
    },
    "b585e3a9-3ac9-4632-ac3a-d2f207377ee9": {
     "id": "b585e3a9-3ac9-4632-ac3a-d2f207377ee9",
     "prev": "7da1750b-8d91-482e-81ef-1251a31a3bdc",
     "regions": {
      "a6b1d70f-8b40-493a-b956-4e0cf4b84655": {
       "attrs": {
        "height": 0.8,
        "width": 0.8,
        "x": 0.1,
        "y": 0.1
       },
       "content": {
        "cell": "d21c52c2-627d-48b5-bcc9-e7ffbc9a588b",
        "part": "whole"
       },
       "id": "a6b1d70f-8b40-493a-b956-4e0cf4b84655"
      }
     }
    },
    "cbd93aa9-e20f-4601-a413-39b1765d3da5": {
     "id": "cbd93aa9-e20f-4601-a413-39b1765d3da5",
     "prev": "b1d9cb1b-8730-4a6f-ac80-c8cd7ca3728c",
     "regions": {
      "33bc07be-3511-4bb2-99fe-ab3ecb67344b": {
       "attrs": {
        "height": 0.8,
        "width": 0.8,
        "x": 0.1,
        "y": 0.1
       },
       "content": {
        "cell": "054142dc-eba7-4528-ae52-659ff140c2a7",
        "part": "whole"
       },
       "id": "33bc07be-3511-4bb2-99fe-ab3ecb67344b"
      }
     }
    },
    "ce814829-5b79-466e-a10a-24b89b9c7020": {
     "id": "ce814829-5b79-466e-a10a-24b89b9c7020",
     "prev": "87c3baba-6117-45b4-b2f7-8e67e4c30d9b",
     "regions": {
      "cfe91f65-2d90-4fae-a62e-be4a3fc770bd": {
       "attrs": {
        "height": 0.8,
        "width": 0.8,
        "x": 0.1,
        "y": 0.1
       },
       "content": {
        "cell": "953fbe2a-d474-4dc2-bb01-29b3fa74b417",
        "part": "whole"
       },
       "id": "cfe91f65-2d90-4fae-a62e-be4a3fc770bd"
      }
     }
    },
    "e6cf034e-e79b-41d6-a1f9-7226fbbf7ed7": {
     "id": "e6cf034e-e79b-41d6-a1f9-7226fbbf7ed7",
     "prev": "4c7d80f3-b68c-4130-aac5-d706c598c62f",
     "regions": {
      "deb1c50c-c10a-4a38-9219-1829ee76b1eb": {
       "attrs": {
        "height": 0.8,
        "width": 0.8,
        "x": 0.1,
        "y": 0.1
       },
       "content": {
        "cell": "4a07d6eb-a6f7-4f5f-8382-cccf6b4a1c58",
        "part": "whole"
       },
       "id": "deb1c50c-c10a-4a38-9219-1829ee76b1eb"
      }
     }
    },
    "ec7deb92-348c-4cdd-b11e-7f822e9a252d": {
     "id": "ec7deb92-348c-4cdd-b11e-7f822e9a252d",
     "prev": "76323a2d-3015-4167-b4dc-2e157a029c67",
     "regions": {
      "8462ec5a-3c0b-4019-941e-72b345ffa23a": {
       "attrs": {
        "height": 0.8,
        "width": 0.8,
        "x": 0.1,
        "y": 0.1
       },
       "content": {
        "cell": "c933879d-e4a0-4665-9f21-0881cf9fd895",
        "part": "whole"
       },
       "id": "8462ec5a-3c0b-4019-941e-72b345ffa23a"
      }
     }
    }
   },
   "themes": {}
  }
 },
 "nbformat": 4,
 "nbformat_minor": 1
}
