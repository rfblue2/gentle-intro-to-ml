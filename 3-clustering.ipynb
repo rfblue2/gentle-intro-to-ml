{
 "cells": [
  {
   "cell_type": "markdown",
   "metadata": {},
   "source": [
    "# Image Compression with PCA"
   ]
  },
  {
   "cell_type": "markdown",
   "metadata": {},
   "source": [
    "Here we use an exploratory data science technique called PCA, Principle Components Analysis, which tries to find the \"components\" that explain the most variance in the data (i.e. if you were to plot k dimensional data into a k dimensional space, what k vectors explain the most difference in data points?).\n",
    "\n",
    "For a version of this exercise in R, see the following: https://www.r-bloggers.com/image-compression-with-principal-component-analysis/"
   ]
  },
  {
   "cell_type": "code",
   "execution_count": null,
   "metadata": {
    "collapsed": true
   },
   "outputs": [],
   "source": [
    "import numpy as np\n",
    "import matplotlib.pyplot as plt\n",
    "from sklearn.cluster import KMeans\n",
    "from sklearn.decomposition import PCA\n",
    "from sklearn.metrics import pairwise_distances_argmin\n",
    "from sklearn.datasets import load_sample_image\n",
    "from sklearn.utils import shuffle"
   ]
  },
  {
   "cell_type": "markdown",
   "metadata": {},
   "source": [
    "Let's load up an image"
   ]
  },
  {
   "cell_type": "code",
   "execution_count": null,
   "metadata": {},
   "outputs": [],
   "source": [
    "original = load_sample_image(\"china.jpg\")\n",
    "plt.imshow(original)\n",
    "plt.show()\n",
    "img[0:2]"
   ]
  },
  {
   "cell_type": "markdown",
   "metadata": {},
   "source": [
    "The data comes in a three dimensional array, the first representing the width, the second representing the height, and finally the third representing the color in RGB.  We preprocess the data to make it amenable to feed into a training model."
   ]
  },
  {
   "cell_type": "code",
   "execution_count": null,
   "metadata": {
    "scrolled": true
   },
   "outputs": [],
   "source": [
    "# Normalize the data to be in [0,1] - also cast to float.\n",
    "img = np.array(original, dtype=np.float64) / 255\n",
    "\n",
    "# split into three channels\n",
    "img_r = img[:,:,0]\n",
    "img_g = img[:,:,1]\n",
    "img_b = img[:,:,2]\n",
    "img[:2], img_r[:2]"
   ]
  },
  {
   "cell_type": "markdown",
   "metadata": {},
   "source": [
    "Let's run PCA to find the principle components.  These are the vectors that define a space for which we can project each row of pixels into.  By using fewer components, we can save less information about the picture, but we also lose some of the quality of the image."
   ]
  },
  {
   "cell_type": "code",
   "execution_count": null,
   "metadata": {
    "scrolled": true
   },
   "outputs": [],
   "source": [
    "# declare the model and fit it\n",
    "comps = 30\n",
    "pca_r = PCA(n_components=comps)\n",
    "pca_g = PCA(n_components=comps)\n",
    "pca_b = PCA(n_components=comps)\n",
    "pca_r.fit(img_r)\n",
    "pca_g.fit(img_g)\n",
    "pca_b.fit(img_b)\n",
    "pca_r.components_"
   ]
  },
  {
   "cell_type": "code",
   "execution_count": null,
   "metadata": {
    "scrolled": true
   },
   "outputs": [],
   "source": [
    "# project all the channels into the reduced space\n",
    "img_comp_r = pca_r.inverse_transform(pca_r.transform(img_r))\n",
    "img_comp_g = pca_g.inverse_transform(pca_g.transform(img_g))\n",
    "img_comp_b = pca_b.inverse_transform(pca_b.transform(img_b))\n",
    "\n",
    "img_comp = np.dstack((img_comp_r, img_comp_g, img_comp_b))\n",
    "img_comp[img_comp < 0] = 0\n",
    "img_comp[img_comp > 1] = 1\n",
    "img_comp[:2]"
   ]
  },
  {
   "cell_type": "code",
   "execution_count": null,
   "metadata": {},
   "outputs": [],
   "source": [
    "plt.imshow(img_comp)\n",
    "plt.show()"
   ]
  },
  {
   "cell_type": "code",
   "execution_count": null,
   "metadata": {
    "collapsed": true
   },
   "outputs": [],
   "source": [
    "from scipy import misc\n",
    "misc.imsave('original.jpg', original)\n",
    "misc.imsave('compressed.jpg', img_comp)"
   ]
  }
 ],
 "metadata": {
  "kernelspec": {
   "display_name": "Python 3",
   "language": "python",
   "name": "python3"
  },
  "language_info": {
   "codemirror_mode": {
    "name": "ipython",
    "version": 3
   },
   "file_extension": ".py",
   "mimetype": "text/x-python",
   "name": "python",
   "nbconvert_exporter": "python",
   "pygments_lexer": "ipython3",
   "version": "3.6.3"
  }
 },
 "nbformat": 4,
 "nbformat_minor": 2
}
