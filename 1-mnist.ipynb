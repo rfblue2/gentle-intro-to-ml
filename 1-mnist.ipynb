{
 "cells": [
  {
   "cell_type": "markdown",
   "metadata": {
    "nbpresent": {
     "id": "881486ba-6555-44b9-b82e-a96870933286"
    }
   },
   "source": [
    "# A Gentle Introduction to Machine Learning with sklearn"
   ]
  },
  {
   "cell_type": "markdown",
   "metadata": {
    "nbpresent": {
     "id": "d0747b7a-22cd-4633-b054-f9b7ebe9692b"
    }
   },
   "source": [
    "## Basic Tenets\n",
    "\n",
    "> [Machine Learning] gives computers the ability to learn without being explicitly programmed\n",
    ">~Arthur Samuel\n",
    "\n",
    "Finding ways to make machine predict an outcome based on data.\n",
    "Examples:\n",
    "1. Given newspaper articles, determine their sentiment, that is, is the article overall positive or negative?\n",
    "2. Given the amount of time a student studied last night, predict their test score (0-100)\n",
    "3. Given a whole bunch of pictures, try to name what they are (is it a car?  is it red?  is it alive?)\n",
    "\n",
    "**Supervised Learning**\n",
    "Using data with predetermined outcomes to train a model. (e.g. 1,2)\n",
    "\n",
    "**Unsupervised Learning**\n",
    "Given data without predetermined outcomes or labels, try to find some pattern (this is harder). (e.g. 3)\n",
    "\n",
    "**Classification**\n",
    "Data outcomes given discrete labels (e.g. 1, 3)\n",
    "\n",
    "**Regression**\n",
    "Data results in outcomes that are continuous in nature (e.g. 2)\n",
    "\n",
    "Data comes in the form of features.  For example,\n",
    "1. Word counts in a newspaper article\n",
    "2. Number of hours\n",
    "3. The pixel values\n",
    "\n",
    "## The Machine Learning Pipeline:\n",
    "- **Preprocessing/Feature Extraction** - Obtain the data, clean it, and try to get it into a usable form.  This can include imputation (filling in missing data), or scaling the data, etc.  For example, so called \"bag of words\" representation of text consists of a dictionary of words and then the number of each word that appears in each text document\n",
    "- **Feature Selection** - Find out what features are relevant (e.g. which words that appear tell you the most about the sentiment of a newspaper article?  Words like \"the\" are likely to be irrelevant.  Words like \"happy\" might mean something.\n",
    "- **Fitting/Training** - Models are actually mathematical formulas that have adjustable parameters.  These parameters can change to yield different outcomes given input data.  In this step, the machine will read in the data and find parameters that maximize some measure that quantifies the quality of its prediction (for example, compute a probability that a data point is predicted correctly and then try to maximize this probability; this is called an MLE - Maximum Likelihood Estimate)\n",
    "- **Model Selection/Tuning** - Many models have hyperparameters, that is, parameters that YOU the programmer must set up to maximize the quality of the model's predictions.  Sometimes you need to do a little guess and check (try 1 set of hyperparameters on a portion of the set and see how good it is, then try another).  This technique is called Cross Validation\n",
    "- **Prediction** - Using your tuned and trained model, you can predict test data (equivalent to plugging in values into a massive equation and observing the result)\n",
    "- **Model Evaluation** - Look at some measures of evaluation (e.g. accuracy/precision of classification, mean squared error for regression, etc.)\n",
    "\n",
    "Ok, let's play with some data!"
   ]
  },
  {
   "cell_type": "markdown",
   "metadata": {
    "nbpresent": {
     "id": "d21c52c2-627d-48b5-bcc9-e7ffbc9a588b"
    }
   },
   "source": [
    "## Playing with the MNIST Data set\n",
    "\n",
    "We will use one of sklearn's many pre-provided data sets, digits - a sample of the MNIST handwritten numbers."
   ]
  },
  {
   "cell_type": "code",
   "execution_count": 1,
   "metadata": {
    "nbpresent": {
     "id": "29618a49-dc73-4120-8aa4-dcb7e0b910f8"
    }
   },
   "outputs": [
    {
     "name": "stdout",
     "output_type": "stream",
     "text": [
      "Optical Recognition of Handwritten Digits Data Set\n",
      "===================================================\n",
      "\n",
      "Notes\n",
      "-----\n",
      "Data Set Characteristics:\n",
      "    :Number of Instances: 5620\n",
      "    :Number of Attributes: 64\n",
      "    :Attribute Information: 8x8 image of integer pixels in the range 0..16.\n",
      "    :Missing Attribute Values: None\n",
      "    :Creator: E. Alpaydin (alpaydin '@' boun.edu.tr)\n",
      "    :Date: July; 1998\n",
      "\n",
      "This is a copy of the test set of the UCI ML hand-written digits datasets\n",
      "http://archive.ics.uci.edu/ml/datasets/Optical+Recognition+of+Handwritten+Digits\n",
      "\n",
      "The data set contains images of hand-written digits: 10 classes where\n",
      "each class refers to a digit.\n",
      "\n",
      "Preprocessing programs made available by NIST were used to extract\n",
      "normalized bitmaps of handwritten digits from a preprinted form. From a\n",
      "total of 43 people, 30 contributed to the training set and different 13\n",
      "to the test set. 32x32 bitmaps are divided into nonoverlapping blocks of\n",
      "4x4 and the number of on pixels are counted in each block. This generates\n",
      "an input matrix of 8x8 where each element is an integer in the range\n",
      "0..16. This reduces dimensionality and gives invariance to small\n",
      "distortions.\n",
      "\n",
      "For info on NIST preprocessing routines, see M. D. Garris, J. L. Blue, G.\n",
      "T. Candela, D. L. Dimmick, J. Geist, P. J. Grother, S. A. Janet, and C.\n",
      "L. Wilson, NIST Form-Based Handprint Recognition System, NISTIR 5469,\n",
      "1994.\n",
      "\n",
      "References\n",
      "----------\n",
      "  - C. Kaynak (1995) Methods of Combining Multiple Classifiers and Their\n",
      "    Applications to Handwritten Digit Recognition, MSc Thesis, Institute of\n",
      "    Graduate Studies in Science and Engineering, Bogazici University.\n",
      "  - E. Alpaydin, C. Kaynak (1998) Cascading Classifiers, Kybernetika.\n",
      "  - Ken Tang and Ponnuthurai N. Suganthan and Xi Yao and A. Kai Qin.\n",
      "    Linear dimensionalityreduction using relevance weighted LDA. School of\n",
      "    Electrical and Electronic Engineering Nanyang Technological University.\n",
      "    2005.\n",
      "  - Claudio Gentile. A New Approximate Maximal Margin Classification\n",
      "    Algorithm. NIPS. 2000.\n",
      "\n",
      "Data shape: (1797, 64)\n",
      "Target shape: (1797,)\n"
     ]
    },
    {
     "data": {
      "text/plain": [
       "array([[  0.,   0.,   5., ...,   0.,   0.,   0.],\n",
       "       [  0.,   0.,   0., ...,   0.,   0.,   1.],\n",
       "       [  0.,   0.,   0., ...,   9.,   0.,   2.],\n",
       "       ..., \n",
       "       [  0.,   0.,   1., ...,   0.,   0.,   8.],\n",
       "       [  0.,   0.,   2., ...,   0.,   0.,   9.],\n",
       "       [  0.,   0.,  10., ...,   1.,   0.,   8.]])"
      ]
     },
     "execution_count": 1,
     "metadata": {},
     "output_type": "execute_result"
    }
   ],
   "source": [
    "from sklearn import datasets\n",
    "import numpy as np\n",
    "\n",
    "digits = datasets.load_digits()\n",
    "print(digits['DESCR'])\n",
    "print(\"Data shape: {}\".format(digits.data.shape))\n",
    "print(\"Target shape: {}\".format(digits.target.shape))\n",
    "np.column_stack([digits.data, digits.target])"
   ]
  },
  {
   "cell_type": "markdown",
   "metadata": {
    "nbpresent": {
     "id": "c933879d-e4a0-4665-9f21-0881cf9fd895"
    }
   },
   "source": [
    "Lets get a feel for what kind of data we're dealing with here."
   ]
  },
  {
   "cell_type": "code",
   "execution_count": 3,
   "metadata": {
    "nbpresent": {
     "id": "675ae25c-2826-47de-9265-09584c288987"
    }
   },
   "outputs": [
    {
     "name": "stdout",
     "output_type": "stream",
     "text": [
      "Sample label: 8\n"
     ]
    },
    {
     "data": {
      "image/png": "[encoded data removed]",
      "text/plain": [
       "<matplotlib.figure.Figure at 0x10c7e3748>"
      ]
     },
     "metadata": {},
     "output_type": "display_data"
    }
   ],
   "source": [
    "import matplotlib.pyplot as plt\n",
    "\n",
    "def display_digit(digit_data):\n",
    "    div = np.full((8,8), 16, dtype=int)\n",
    "    dig = digit_data.reshape(8,8) / div\n",
    "    plt.imshow(dig, cmap=\"gray\")\n",
    "    plt.show()\n",
    "\n",
    "sample = 1796 # change this to anything between 0 and size of data set (1796) to view a plot of any data point\n",
    "print(\"Sample label: {}\".format(digits.target[sample]))\n",
    "display_digit(digits.data[sample])"
   ]
  },
  {
   "cell_type": "markdown",
   "metadata": {
    "nbpresent": {
     "id": "4a07d6eb-a6f7-4f5f-8382-cccf6b4a1c58"
    }
   },
   "source": [
    "Now let's pick a model and train it with this data!"
   ]
  },
  {
   "cell_type": "code",
   "execution_count": 4,
   "metadata": {
    "nbpresent": {
     "id": "051e759f-beef-4680-bebf-9b0b64f45d9b"
    }
   },
   "outputs": [
    {
     "name": "stdout",
     "output_type": "stream",
     "text": [
      "Classifier predicted [8]\n",
      "Actual value: 8\n"
     ]
    },
    {
     "data": {
      "image/png": "[encoded data removed]",
      "text/plain": [
       "<matplotlib.figure.Figure at 0x10b1865f8>"
      ]
     },
     "metadata": {},
     "output_type": "display_data"
    }
   ],
   "source": [
    "from sklearn.svm import LinearSVC\n",
    "\n",
    "# Step 1: Create the classifier, specifying parameters (or use defaults)\n",
    "clf = LinearSVC()\n",
    "\n",
    "# Step 2: Fit the data!\n",
    "clf.fit(digits.data, digits.target)\n",
    "\n",
    "# Step 3: Try predicting something\n",
    "pred_num = 1796 # Change this to anything between 0 and the size of data set (1796) to predict a different data point\n",
    "pred = clf.predict([digits.data[pred_num]])\n",
    "print(\"Classifier predicted {}\".format(pred))\n",
    "print(\"Actual value: {}\".format(digits.target[pred_num]))\n",
    "display_digit(digits.data[pred_num])"
   ]
  },
  {
   "cell_type": "markdown",
   "metadata": {
    "nbpresent": {
     "id": "054142dc-eba7-4528-ae52-659ff140c2a7"
    }
   },
   "source": [
    "Now let's evaluate the robustness of our model"
   ]
  },
  {
   "cell_type": "code",
   "execution_count": 5,
   "metadata": {
    "nbpresent": {
     "id": "1c77de49-768c-47ec-8809-8e893361c772"
    }
   },
   "outputs": [
    {
     "name": "stdout",
     "output_type": "stream",
     "text": [
      "Accuracy: 0.9794101279910963\n",
      "             precision    recall  f1-score   support\n",
      "\n",
      "          0       0.99      1.00      1.00       178\n",
      "          1       1.00      0.87      0.93       182\n",
      "          2       1.00      0.99      0.99       177\n",
      "          3       0.97      1.00      0.99       183\n",
      "          4       1.00      1.00      1.00       181\n",
      "          5       0.99      1.00      0.99       182\n",
      "          6       1.00      1.00      1.00       181\n",
      "          7       1.00      1.00      1.00       179\n",
      "          8       0.86      0.99      0.92       174\n",
      "          9       0.99      0.95      0.97       180\n",
      "\n",
      "avg / total       0.98      0.98      0.98      1797\n",
      "\n"
     ]
    }
   ],
   "source": [
    "from sklearn.metrics import accuracy_score\n",
    "from sklearn.metrics import classification_report\n",
    "\n",
    "# predict everything we originally trained on\n",
    "pred = clf.predict(digits.data)\n",
    "print(\"Accuracy: {}\".format(accuracy_score(digits.target, pred)))\n",
    "print(classification_report(digits.target, pred))"
   ]
  },
  {
   "cell_type": "markdown",
   "metadata": {
    "nbpresent": {
     "id": "d59f91da-a052-4fcc-81ed-40405863b154"
    }
   },
   "source": [
    "This is remarkably accurate!  However, in this case we've tested our model with the same data we trained this with.  To illustrate this, we will split the data and use a different model to motivate why this is the case."
   ]
  },
  {
   "cell_type": "code",
   "execution_count": 6,
   "metadata": {
    "nbpresent": {
     "id": "3d70a30c-87c3-44dc-af14-e771b8a2f998"
    }
   },
   "outputs": [
    {
     "name": "stdout",
     "output_type": "stream",
     "text": [
      "Train X shape: (1203, 64)\n",
      "Test X shape: (594, 64)\n"
     ]
    }
   ],
   "source": [
    "from sklearn.model_selection import train_test_split\n",
    "\n",
    "X_train, X_test, y_train, y_test = train_test_split(\n",
    "    digits.data, digits.target, test_size=0.33, random_state=1)\n",
    "\n",
    "print(\"Train X shape: {}\".format(X_train.shape))\n",
    "print(\"Test X shape: {}\".format(X_test.shape))\n"
   ]
  },
  {
   "cell_type": "markdown",
   "metadata": {
    "nbpresent": {
     "id": "2b653413-251c-406f-9920-f01740f6ed9d"
    }
   },
   "source": [
    "Let's try a different model this time, called K-Nearest Neighbors (KNN)"
   ]
  },
  {
   "cell_type": "code",
   "execution_count": 7,
   "metadata": {
    "nbpresent": {
     "id": "df1d8442-7692-4d92-a77a-82cddf60e683"
    }
   },
   "outputs": [
    {
     "data": {
      "text/plain": [
       "0.98836242726517043"
      ]
     },
     "execution_count": 7,
     "metadata": {},
     "output_type": "execute_result"
    }
   ],
   "source": [
    "from sklearn.neighbors import KNeighborsClassifier\n",
    "\n",
    "# If there are n features in the data and we were to plot the points in an n dimensional space\n",
    "# KNN will assign a label based on the labels of the closest k points to the data point we wish to predict\n",
    "clf = KNeighborsClassifier(n_neighbors=5) # Here we let k=5\n",
    "clf.fit(X_train, y_train)\n",
    "y_pred = clf.predict(X_train) # predict using the training data\n",
    "accuracy_score(y_train, y_pred)"
   ]
  },
  {
   "cell_type": "markdown",
   "metadata": {
    "nbpresent": {
     "id": "a33bd51e-17b9-4d8b-bba1-9703ce6e8c0a"
    }
   },
   "source": [
    "Here, k is a hyperparameter, meaning we could change it to get better performance.  Can we do better?"
   ]
  },
  {
   "cell_type": "code",
   "execution_count": 8,
   "metadata": {
    "nbpresent": {
     "id": "8f55a60a-b9f4-4cf5-a45e-9c3b0612d80d"
    }
   },
   "outputs": [
    {
     "data": {
      "text/plain": [
       "1.0"
      ]
     },
     "execution_count": 8,
     "metadata": {},
     "output_type": "execute_result"
    }
   ],
   "source": [
    "clf = KNeighborsClassifier(n_neighbors=1) # now k=1\n",
    "clf.fit(X_train, y_train)\n",
    "y_pred = clf.predict(X_train) # predict using the training data\n",
    "accuracy_score(y_train, y_pred)"
   ]
  },
  {
   "cell_type": "markdown",
   "metadata": {
    "nbpresent": {
     "id": "178cc142-7cd9-4054-8359-18032e5327f9"
    }
   },
   "source": [
    "The prediction on training data was perfect (why?).  But how will it do on the test data set?"
   ]
  },
  {
   "cell_type": "code",
   "execution_count": 9,
   "metadata": {
    "nbpresent": {
     "id": "7a8b07ec-93ed-4cd6-8964-e16467cd1b30"
    }
   },
   "outputs": [
    {
     "data": {
      "text/plain": [
       "0.98821548821548821"
      ]
     },
     "execution_count": 9,
     "metadata": {},
     "output_type": "execute_result"
    }
   ],
   "source": [
    "y_pred = clf.predict(X_test) # predict using the training data\n",
    "accuracy_score(y_test, y_pred)"
   ]
  },
  {
   "cell_type": "markdown",
   "metadata": {
    "nbpresent": {
     "id": "b26b0345-8be3-4024-be65-c2aa9670430e"
    }
   },
   "source": [
    "Let's try to find a k that will give us the best results on the test data set."
   ]
  },
  {
   "cell_type": "code",
   "execution_count": 10,
   "metadata": {
    "nbpresent": {
     "id": "953fbe2a-d474-4dc2-bb01-29b3fa74b417"
    }
   },
   "outputs": [
    {
     "data": {
      "image/png": "[encoded data removed]",
      "text/plain": [
       "<matplotlib.figure.Figure at 0x10f6f5748>"
      ]
     },
     "metadata": {},
     "output_type": "display_data"
    }
   ],
   "source": [
    "k_results = []\n",
    "for i in range(1, 20):\n",
    "    clf = KNeighborsClassifier(n_neighbors=i)\n",
    "    clf.fit(X_train, y_train)\n",
    "    y_pred = clf.predict(X_test)\n",
    "    k_results.append(accuracy_score(y_test, y_pred))\n",
    "\n",
    "plt.plot(k_results)\n",
    "plt.show()"
   ]
  }
 ],
 "metadata": {
  "anaconda-cloud": {},
  "kernelspec": {
   "display_name": "Python 3",
   "language": "python",
   "name": "python3"
  },
  "language_info": {
   "codemirror_mode": {
    "name": "ipython",
    "version": 3
   },
   "file_extension": ".py",
   "mimetype": "text/x-python",
   "name": "python",
   "nbconvert_exporter": "python",
   "pygments_lexer": "ipython3",
   "version": "3.6.3"
  },
  "nbpresent": {
   "slides": {
    "1c40d1d6-4c5a-4158-ab2c-6d06cca56177": {
     "id": "1c40d1d6-4c5a-4158-ab2c-6d06cca56177",
     "prev": "74579b92-824d-4988-aba2-db773b8be292",
     "regions": {
      "15399b12-2ed8-4ca7-9f9a-e094306201a4": {
       "attrs": {
        "height": 0.8,
        "width": 0.8,
        "x": 0.1,
        "y": 0.1
       },
       "content": {
        "cell": "7a8b07ec-93ed-4cd6-8964-e16467cd1b30",
        "part": "whole"
       },
       "id": "15399b12-2ed8-4ca7-9f9a-e094306201a4"
      }
     }
    },
    "1e56f1be-7713-4bb0-8c48-66c7ec6f6718": {
     "id": "1e56f1be-7713-4bb0-8c48-66c7ec6f6718",
     "prev": "7f6868af-17f0-4b5b-8644-caac8f9bf2a4",
     "regions": {
      "ec00bd93-5b6a-40f8-ad1c-87df6fd23cd8": {
       "attrs": {
        "height": 0.8,
        "width": 0.8,
        "x": 0.1,
        "y": 0.1
       },
       "content": {
        "cell": "df1d8442-7692-4d92-a77a-82cddf60e683",
        "part": "whole"
       },
       "id": "ec00bd93-5b6a-40f8-ad1c-87df6fd23cd8"
      }
     }
    },
    "44eab977-3da8-40d3-a2c4-fdda8a221990": {
     "id": "44eab977-3da8-40d3-a2c4-fdda8a221990",
     "prev": "adfb04da-6259-4224-b074-0339ae2e9b76",
     "regions": {
      "624a9a86-67e9-4f3b-bcd1-a9df611e17cd": {
       "attrs": {
        "height": 0.8,
        "width": 0.8,
        "x": 0.1,
        "y": 0.1
       },
       "content": {
        "cell": "3d70a30c-87c3-44dc-af14-e771b8a2f998",
        "part": "whole"
       },
       "id": "624a9a86-67e9-4f3b-bcd1-a9df611e17cd"
      }
     }
    },
    "4c7d80f3-b68c-4130-aac5-d706c598c62f": {
     "id": "4c7d80f3-b68c-4130-aac5-d706c598c62f",
     "prev": "ec7deb92-348c-4cdd-b11e-7f822e9a252d",
     "regions": {
      "ec2480fd-2be0-4f82-a8a5-059a2cb1e6a3": {
       "attrs": {
        "height": 0.8,
        "width": 0.8,
        "x": 0.1,
        "y": 0.1
       },
       "content": {
        "cell": "675ae25c-2826-47de-9265-09584c288987",
        "part": "whole"
       },
       "id": "ec2480fd-2be0-4f82-a8a5-059a2cb1e6a3"
      }
     }
    },
    "5dbf0a1a-3d1f-48e0-9f22-0b56235a664e": {
     "id": "5dbf0a1a-3d1f-48e0-9f22-0b56235a664e",
     "prev": null,
     "regions": {
      "27db3580-7767-4f97-8499-f3c500f984f5": {
       "attrs": {
        "height": 0.8,
        "width": 0.8,
        "x": 0.1,
        "y": 0.1
       },
       "content": {
        "cell": "881486ba-6555-44b9-b82e-a96870933286",
        "part": "whole"
       },
       "id": "27db3580-7767-4f97-8499-f3c500f984f5"
      }
     }
    },
    "6d7deb03-cc6c-455b-a2ff-65e1383e1eac": {
     "id": "6d7deb03-cc6c-455b-a2ff-65e1383e1eac",
     "prev": "cbd93aa9-e20f-4601-a413-39b1765d3da5",
     "regions": {
      "f2e4c51c-012e-4db2-a892-7dc65929513d": {
       "attrs": {
        "height": 0.8,
        "width": 0.8,
        "x": 0.1,
        "y": 0.1
       },
       "content": {
        "cell": "1c77de49-768c-47ec-8809-8e893361c772",
        "part": "whole"
       },
       "id": "f2e4c51c-012e-4db2-a892-7dc65929513d"
      }
     }
    },
    "7343c477-3e7a-4ac7-adb8-2ffd4bb88cbf": {
     "id": "7343c477-3e7a-4ac7-adb8-2ffd4bb88cbf",
     "prev": "1e56f1be-7713-4bb0-8c48-66c7ec6f6718",
     "regions": {
      "c684cc04-be46-4219-ad89-27852ef1ce2b": {
       "attrs": {
        "height": 0.8,
        "width": 0.8,
        "x": 0.1,
        "y": 0.1
       },
       "content": {
        "cell": "a33bd51e-17b9-4d8b-bba1-9703ce6e8c0a",
        "part": "whole"
       },
       "id": "c684cc04-be46-4219-ad89-27852ef1ce2b"
      }
     }
    },
    "74579b92-824d-4988-aba2-db773b8be292": {
     "id": "74579b92-824d-4988-aba2-db773b8be292",
     "prev": "a70ad0eb-12b9-4c1e-aa54-c10795389f00",
     "regions": {
      "c972ec29-8670-43b0-8c89-f33e756e38c6": {
       "attrs": {
        "height": 0.8,
        "width": 0.8,
        "x": 0.1,
        "y": 0.1
       },
       "content": {
        "cell": "178cc142-7cd9-4054-8359-18032e5327f9",
        "part": "whole"
       },
       "id": "c972ec29-8670-43b0-8c89-f33e756e38c6"
      }
     }
    },
    "76323a2d-3015-4167-b4dc-2e157a029c67": {
     "id": "76323a2d-3015-4167-b4dc-2e157a029c67",
     "prev": "b585e3a9-3ac9-4632-ac3a-d2f207377ee9",
     "regions": {
      "73b55813-01ce-4b15-bf62-cbc7dd1d5560": {
       "attrs": {
        "height": 0.8,
        "width": 0.8,
        "x": 0.1,
        "y": 0.1
       },
       "content": {
        "cell": "29618a49-dc73-4120-8aa4-dcb7e0b910f8",
        "part": "whole"
       },
       "id": "73b55813-01ce-4b15-bf62-cbc7dd1d5560"
      }
     }
    },
    "7da1750b-8d91-482e-81ef-1251a31a3bdc": {
     "id": "7da1750b-8d91-482e-81ef-1251a31a3bdc",
     "prev": "5dbf0a1a-3d1f-48e0-9f22-0b56235a664e",
     "regions": {
      "c2b42754-e718-4f88-8790-dc48adf3cae2": {
       "attrs": {
        "height": 0.8,
        "width": 0.8,
        "x": 0.1,
        "y": 0.1
       },
       "content": {
        "cell": "d0747b7a-22cd-4633-b054-f9b7ebe9692b",
        "part": "whole"
       },
       "id": "c2b42754-e718-4f88-8790-dc48adf3cae2"
      }
     }
    },
    "7f6868af-17f0-4b5b-8644-caac8f9bf2a4": {
     "id": "7f6868af-17f0-4b5b-8644-caac8f9bf2a4",
     "prev": "44eab977-3da8-40d3-a2c4-fdda8a221990",
     "regions": {
      "bce7e9c9-f783-4920-b62d-824d808c54e2": {
       "attrs": {
        "height": 0.8,
        "width": 0.8,
        "x": 0.1,
        "y": 0.1
       },
       "content": {
        "cell": "2b653413-251c-406f-9920-f01740f6ed9d",
        "part": "whole"
       },
       "id": "bce7e9c9-f783-4920-b62d-824d808c54e2"
      }
     }
    },
    "87c3baba-6117-45b4-b2f7-8e67e4c30d9b": {
     "id": "87c3baba-6117-45b4-b2f7-8e67e4c30d9b",
     "prev": "1c40d1d6-4c5a-4158-ab2c-6d06cca56177",
     "regions": {
      "7c8b84aa-6797-4259-bd35-fa38306b409a": {
       "attrs": {
        "height": 0.8,
        "width": 0.8,
        "x": 0.1,
        "y": 0.1
       },
       "content": {
        "cell": "b26b0345-8be3-4024-be65-c2aa9670430e",
        "part": "whole"
       },
       "id": "7c8b84aa-6797-4259-bd35-fa38306b409a"
      }
     }
    },
    "a70ad0eb-12b9-4c1e-aa54-c10795389f00": {
     "id": "a70ad0eb-12b9-4c1e-aa54-c10795389f00",
     "prev": "7343c477-3e7a-4ac7-adb8-2ffd4bb88cbf",
     "regions": {
      "508a03e9-a3fa-4653-a66e-0c70b23b115a": {
       "attrs": {
        "height": 0.8,
        "width": 0.8,
        "x": 0.1,
        "y": 0.1
       },
       "content": {
        "cell": "8f55a60a-b9f4-4cf5-a45e-9c3b0612d80d",
        "part": "whole"
       },
       "id": "508a03e9-a3fa-4653-a66e-0c70b23b115a"
      }
     }
    },
    "adfb04da-6259-4224-b074-0339ae2e9b76": {
     "id": "adfb04da-6259-4224-b074-0339ae2e9b76",
     "prev": "6d7deb03-cc6c-455b-a2ff-65e1383e1eac",
     "regions": {
      "5bc0e13b-a257-46c3-999c-798e9e0c79be": {
       "attrs": {
        "height": 0.8,
        "width": 0.8,
        "x": 0.1,
        "y": 0.1
       },
       "content": {
        "cell": "d59f91da-a052-4fcc-81ed-40405863b154",
        "part": "whole"
       },
       "id": "5bc0e13b-a257-46c3-999c-798e9e0c79be"
      }
     }
    },
    "b1d9cb1b-8730-4a6f-ac80-c8cd7ca3728c": {
     "id": "b1d9cb1b-8730-4a6f-ac80-c8cd7ca3728c",
     "prev": "e6cf034e-e79b-41d6-a1f9-7226fbbf7ed7",
     "regions": {
      "3a90e481-6a6e-4c77-9fa6-57b8093da676": {
       "attrs": {
        "height": 0.8,
        "width": 0.8,
        "x": 0.1,
        "y": 0.1
       },
       "content": {
        "cell": "051e759f-beef-4680-bebf-9b0b64f45d9b",
        "part": "whole"
       },
       "id": "3a90e481-6a6e-4c77-9fa6-57b8093da676"
      }
     }
    },
    "b585e3a9-3ac9-4632-ac3a-d2f207377ee9": {
     "id": "b585e3a9-3ac9-4632-ac3a-d2f207377ee9",
     "prev": "7da1750b-8d91-482e-81ef-1251a31a3bdc",
     "regions": {
      "a6b1d70f-8b40-493a-b956-4e0cf4b84655": {
       "attrs": {
        "height": 0.8,
        "width": 0.8,
        "x": 0.1,
        "y": 0.1
       },
       "content": {
        "cell": "d21c52c2-627d-48b5-bcc9-e7ffbc9a588b",
        "part": "whole"
       },
       "id": "a6b1d70f-8b40-493a-b956-4e0cf4b84655"
      }
     }
    },
    "cbd93aa9-e20f-4601-a413-39b1765d3da5": {
     "id": "cbd93aa9-e20f-4601-a413-39b1765d3da5",
     "prev": "b1d9cb1b-8730-4a6f-ac80-c8cd7ca3728c",
     "regions": {
      "33bc07be-3511-4bb2-99fe-ab3ecb67344b": {
       "attrs": {
        "height": 0.8,
        "width": 0.8,
        "x": 0.1,
        "y": 0.1
       },
       "content": {
        "cell": "054142dc-eba7-4528-ae52-659ff140c2a7",
        "part": "whole"
       },
       "id": "33bc07be-3511-4bb2-99fe-ab3ecb67344b"
      }
     }
    },
    "ce814829-5b79-466e-a10a-24b89b9c7020": {
     "id": "ce814829-5b79-466e-a10a-24b89b9c7020",
     "prev": "87c3baba-6117-45b4-b2f7-8e67e4c30d9b",
     "regions": {
      "cfe91f65-2d90-4fae-a62e-be4a3fc770bd": {
       "attrs": {
        "height": 0.8,
        "width": 0.8,
        "x": 0.1,
        "y": 0.1
       },
       "content": {
        "cell": "953fbe2a-d474-4dc2-bb01-29b3fa74b417",
        "part": "whole"
       },
       "id": "cfe91f65-2d90-4fae-a62e-be4a3fc770bd"
      }
     }
    },
    "e6cf034e-e79b-41d6-a1f9-7226fbbf7ed7": {
     "id": "e6cf034e-e79b-41d6-a1f9-7226fbbf7ed7",
     "prev": "4c7d80f3-b68c-4130-aac5-d706c598c62f",
     "regions": {
      "deb1c50c-c10a-4a38-9219-1829ee76b1eb": {
       "attrs": {
        "height": 0.8,
        "width": 0.8,
        "x": 0.1,
        "y": 0.1
       },
       "content": {
        "cell": "4a07d6eb-a6f7-4f5f-8382-cccf6b4a1c58",
        "part": "whole"
       },
       "id": "deb1c50c-c10a-4a38-9219-1829ee76b1eb"
      }
     }
    },
    "ec7deb92-348c-4cdd-b11e-7f822e9a252d": {
     "id": "ec7deb92-348c-4cdd-b11e-7f822e9a252d",
     "prev": "76323a2d-3015-4167-b4dc-2e157a029c67",
     "regions": {
      "8462ec5a-3c0b-4019-941e-72b345ffa23a": {
       "attrs": {
        "height": 0.8,
        "width": 0.8,
        "x": 0.1,
        "y": 0.1
       },
       "content": {
        "cell": "c933879d-e4a0-4665-9f21-0881cf9fd895",
        "part": "whole"
       },
       "id": "8462ec5a-3c0b-4019-941e-72b345ffa23a"
      }
     }
    }
   },
   "themes": {}
  }
 },
 "nbformat": 4,
 "nbformat_minor": 1
}
